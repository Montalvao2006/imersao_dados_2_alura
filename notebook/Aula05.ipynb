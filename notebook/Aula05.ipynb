{
  "nbformat": 4,
  "nbformat_minor": 0,
  "metadata": {
    "colab": {
      "name": "Aula05.ipynb",
      "provenance": [],
      "authorship_tag": "ABX9TyN0tFbTGmWj1IcoJcTedfRJ",
      "include_colab_link": true
    },
    "kernelspec": {
      "name": "python3",
      "display_name": "Python 3"
    }
  },
  "cells": [
    {
      "cell_type": "markdown",
      "metadata": {
        "id": "view-in-github",
        "colab_type": "text"
      },
      "source": [
        "<a href=\"https://colab.research.google.com/github/lucas-porto/imersao_dados_2_alura/blob/main/Aula05.ipynb\" target=\"_parent\"><img src=\"https://colab.research.google.com/assets/colab-badge.svg\" alt=\"Open In Colab\"/></a>"
      ]
    },
    {
      "cell_type": "markdown",
      "metadata": {
        "id": "YTDCkZUJVC_6"
      },
      "source": [
        "# Aula 5"
      ]
    },
    {
      "cell_type": "code",
      "metadata": {
        "id": "e5WA-bHvE-28"
      },
      "source": [
        "import pandas as pd\n",
        "import matplotlib.pyplot as plt\n",
        "import seaborn as sns\n",
        "import numpy as np\n",
        "import warnings as wrns\n",
        "\n",
        "from sklearn.model_selection import train_test_split\n",
        "from sklearn.ensemble import RandomForestRegressor\n",
        "\n",
        "from sklearn.svm import LinearSVR\n",
        "from sklearn.dummy import DummyRegressor\n",
        "from sklearn.linear_model import ElasticNet\n",
        "from sklearn.linear_model import LinearRegression\n",
        "\n",
        "from sklearn.metrics import mean_squared_error\n",
        "from sklearn.metrics import mean_absolute_error\n",
        "from sklearn.metrics import  r2_score\n",
        "\n",
        "\n",
        "wrns.filterwarnings(\"ignore\")\n",
        "\n",
        "fonte = 'https://github.com/alura-cursos/imersao-dados-2-2020/blob/master/MICRODADOS_ENEM_2019_SAMPLE_43278.csv?raw=true'\n",
        "\n",
        "dados = pd.read_csv(fonte)\n",
        "\n",
        "provas = [\"NU_NOTA_CN\",\"NU_NOTA_CH\",\"NU_NOTA_MT\",\"NU_NOTA_LC\",\"NU_NOTA_REDACAO\"]\n",
        "\n",
        "dados['NU_NOTA_TOTAL'] = dados[provas].sum(axis=1)\n",
        "\n",
        "dados_sem_nota_zero = dados.query('NU_NOTA_TOTAL != 0')\n",
        "\n",
        "#definindo parâmentros de teste\n",
        "provas_entrada = [\"NU_NOTA_CH\",\"NU_NOTA_LC\", \"NU_NOTA_CN\",\"NU_NOTA_REDACAO\"]\n",
        "prova_saida = \"NU_NOTA_MT\"\n",
        "\n",
        "#retirando todos os dados NaN (not a number)\n",
        "dados_sem_nota_zero = dados_sem_nota_zero[provas].dropna()\n",
        "\n",
        "notas_entrada = dados_sem_nota_zero[provas_entrada]\n",
        "notas_saida = dados_sem_nota_zero[prova_saida]\n",
        "\n",
        "x = notas_entrada\n",
        "y = notas_saida \n",
        "\n",
        "\n",
        "SEED = 4321\n",
        "\n",
        "x_treino, x_teste, y_treino, y_teste = train_test_split(x, y, test_size = 0.25,\n",
        "                                                        random_state=SEED)"
      ],
      "execution_count": 1,
      "outputs": []
    },
    {
      "cell_type": "code",
      "metadata": {
        "id": "fVvojnEkFUi0",
        "outputId": "e6aeba84-43e8-455f-d443-82eb02b1393d",
        "colab": {
          "base_uri": "https://localhost:8080/",
          "height": 35
        }
      },
      "source": [
        "modelo = LinearSVR(random_state=SEED)\n",
        "modelo.fit(x_treino, y_treino)\n",
        "predicoes_matematica = modelo.predict(x_teste)\n",
        "mean_squared_error(y_teste, predicoes_matematica)\n"
      ],
      "execution_count": 2,
      "outputs": [
        {
          "output_type": "execute_result",
          "data": {
            "text/plain": [
              "6604.41530621957"
            ]
          },
          "metadata": {
            "tags": []
          },
          "execution_count": 2
        }
      ]
    },
    {
      "cell_type": "code",
      "metadata": {
        "id": "wjmJNo2iFa9U",
        "outputId": "6372504f-5b8c-4e9c-e998-925bd1ae6477",
        "colab": {
          "base_uri": "https://localhost:8080/",
          "height": 35
        }
      },
      "source": [
        "from sklearn.tree import DecisionTreeRegressor\n",
        "\n",
        "x_treino, x_teste, y_treino, y_teste = train_test_split(x, y, test_size=0.25)\n",
        "modelo_arvore = DecisionTreeRegressor(max_depth = 3)\n",
        "modelo_arvore.fit(x_treino, y_treino)\n",
        "predicoes_matematica_arvore = modelo_arvore.predict(x_teste)\n",
        "mean_squared_error(y_teste, predicoes_matematica_arvore)"
      ],
      "execution_count": 3,
      "outputs": [
        {
          "output_type": "execute_result",
          "data": {
            "text/plain": [
              "6082.353612605279"
            ]
          },
          "metadata": {
            "tags": []
          },
          "execution_count": 3
        }
      ]
    },
    {
      "cell_type": "code",
      "metadata": {
        "id": "-ExY3fiKFo1I"
      },
      "source": [
        "from sklearn.model_selection import cross_validate\n",
        "\n",
        "modelo_arvore = DecisionTreeRegressor(max_depth=2)\n",
        "resultados = cross_validate(modelo_arvore, x, y, cv= 10, scoring=\"neg_mean_squared_error\")\n",
        "media = (resultados[\"test_score\"]*-1).mean()\n"
      ],
      "execution_count": 4,
      "outputs": []
    },
    {
      "cell_type": "code",
      "metadata": {
        "id": "U3C5hvHSUGZs",
        "outputId": "e1d81354-ba75-43b1-9b76-1d8cc0676d1f",
        "colab": {
          "base_uri": "https://localhost:8080/",
          "height": 35
        }
      },
      "source": [
        "from sklearn.model_selection import cross_validate\n",
        "\n",
        "modelo_arvore = DecisionTreeRegressor(max_depth=2)\n",
        "resultados = cross_validate(modelo_arvore, x, y, cv= 10, scoring=\"neg_mean_squared_error\")\n",
        "media = (resultados[\"test_score\"]*-1).mean()\n",
        "desvio_padrao = (resultados[\"test_score\"]*-1).std()\n",
        "lim_inferior = media - (2*desvio_padrao)\n",
        "lim_superior = media + (2*desvio_padrao)\n",
        "\n",
        "print(f\"Intervalo de confiança {lim_inferior} - {lim_superior}\")"
      ],
      "execution_count": 5,
      "outputs": [
        {
          "output_type": "stream",
          "text": [
            "Intervalo de confiança 6015.722549536804 - 7100.7327797807375\n"
          ],
          "name": "stdout"
        }
      ]
    },
    {
      "cell_type": "code",
      "metadata": {
        "id": "AToB37YEUMlv",
        "outputId": "3c8f2362-7f9b-4d03-debf-1beb68075d8d",
        "colab": {
          "base_uri": "https://localhost:8080/",
          "height": 72
        }
      },
      "source": [
        "resultados[\"test_score\"]*-1"
      ],
      "execution_count": 6,
      "outputs": [
        {
          "output_type": "execute_result",
          "data": {
            "text/plain": [
              "array([6118.6911947 , 6536.09830186, 6338.64260896, 6456.70685686,\n",
              "       6234.97203593, 6794.25120283, 6713.45694262, 6693.04880297,\n",
              "       6610.58461646, 7085.82408339])"
            ]
          },
          "metadata": {
            "tags": []
          },
          "execution_count": 6
        }
      ]
    },
    {
      "cell_type": "code",
      "metadata": {
        "id": "CwzMmvtfURXS"
      },
      "source": [
        "#criando uma função pára calcular os intervalos de confiança\n",
        "\n",
        "\n",
        "def calcula_mse(resultados):\n",
        "    media = (resultados[\"test_score\"]*-1).mean()\n",
        "    desvio_padrao = (resultados[\"test_score\"]*-1).std()\n",
        "    lim_inferior = media - (2*desvio_padrao)\n",
        "    lim_superior = media + (2*desvio_padrao)\n",
        "    print(f\"Intervalo de confiança {lim_inferior} - {lim_superior}\")"
      ],
      "execution_count": 7,
      "outputs": []
    },
    {
      "cell_type": "code",
      "metadata": {
        "id": "Y4y7f_FhUbiN",
        "outputId": "98694d64-0712-435c-db84-ee99dc80ac65",
        "colab": {
          "base_uri": "https://localhost:8080/",
          "height": 35
        }
      },
      "source": [
        "from sklearn.model_selection import cross_validate\n",
        "from sklearn.model_selection import KFold\n",
        "\n",
        "\n",
        "SEED= 1232\n",
        "np.random.seed(SEED)\n",
        "\n",
        "\n",
        "\n",
        "partes = KFold(n_splits = 10, shuffle=True)\n",
        "modelo_arvore = DecisionTreeRegressor(max_depth=3)\n",
        "resultados = cross_validate(modelo_arvore, x, y, cv= partes, scoring=\"neg_mean_squared_error\")\n",
        "calcula_mse(resultados)"
      ],
      "execution_count": 8,
      "outputs": [
        {
          "output_type": "stream",
          "text": [
            "Intervalo de confiança 5858.741842392759 - 6250.793292491384\n"
          ],
          "name": "stdout"
        }
      ]
    },
    {
      "cell_type": "code",
      "metadata": {
        "id": "330_a7cXUdgC",
        "outputId": "2c5cd180-fae9-43ed-9e16-a46c638396c6",
        "colab": {
          "base_uri": "https://localhost:8080/",
          "height": 35
        }
      },
      "source": [
        "#criando uma função para mudar a quantidade de níveis da árvore\n",
        "#fiz uma pequena alteração na fórmula de print.\n",
        "\n",
        "def regressor_arvore(nivel):\n",
        "    SEED= 1232\n",
        "    np.random.seed(SEED)\n",
        "    partes = KFold(n_splits = 10, shuffle=True)\n",
        "    modelo_arvore = DecisionTreeRegressor(max_depth=nivel)\n",
        "    resultados = cross_validate(modelo_arvore, x, y, cv= partes, scoring=\"neg_mean_squared_error\", return_train_score=True)\n",
        "    print(f\"Nível = {nivel}  |  Treino = {(resultados['train_score']*-1).mean()}  |  Teste = {(resultados['test_score']*-1).mean()}\")\n",
        "\n",
        "regressor_arvore(4)"
      ],
      "execution_count": 9,
      "outputs": [
        {
          "output_type": "stream",
          "text": [
            "Nível = 4  |  Treino = 5760.834451245899  |  Teste = 5815.707286597402\n"
          ],
          "name": "stdout"
        }
      ]
    },
    {
      "cell_type": "code",
      "metadata": {
        "id": "mXv-f8-7Ulje",
        "outputId": "568f11ee-9d75-418b-b597-6c9e64bb799c",
        "colab": {
          "base_uri": "https://localhost:8080/",
          "height": 381
        }
      },
      "source": [
        "for i in range(1,21):\n",
        "    regressor_arvore(i)"
      ],
      "execution_count": 10,
      "outputs": [
        {
          "output_type": "stream",
          "text": [
            "Nível = 1  |  Treino = 7844.952652412207  |  Teste = 7857.871770206351\n",
            "Nível = 2  |  Treino = 6527.783475408351  |  Teste = 6556.886287657656\n",
            "Nível = 3  |  Treino = 6021.275229419075  |  Teste = 6054.767567442072\n",
            "Nível = 4  |  Treino = 5760.834451245899  |  Teste = 5815.707286597402\n",
            "Nível = 5  |  Treino = 5598.158955426787  |  Teste = 5675.196789060744\n",
            "Nível = 6  |  Treino = 5469.677369145869  |  Teste = 5593.304363812442\n",
            "Nível = 7  |  Treino = 5369.458309852721  |  Teste = 5541.646599457925\n",
            "Nível = 8  |  Treino = 5276.16965707928  |  Teste = 5542.053091078966\n",
            "Nível = 9  |  Treino = 5166.713159932668  |  Teste = 5608.390265709719\n",
            "Nível = 10  |  Treino = 5022.598049115693  |  Teste = 5761.4934268457555\n",
            "Nível = 11  |  Treino = 4833.560706021637  |  Teste = 5955.331403579403\n",
            "Nível = 12  |  Treino = 4598.125022484774  |  Teste = 6217.553668629227\n",
            "Nível = 13  |  Treino = 4316.3791662866815  |  Teste = 6521.403312280134\n",
            "Nível = 14  |  Treino = 4000.6209880837496  |  Teste = 6853.984106997142\n",
            "Nível = 15  |  Treino = 3655.8197526274853  |  Teste = 7224.863053512405\n",
            "Nível = 16  |  Treino = 3295.832684540846  |  Teste = 7636.168819779455\n",
            "Nível = 17  |  Treino = 2931.7212612043877  |  Teste = 8071.851486256819\n",
            "Nível = 18  |  Treino = 2575.59534021339  |  Teste = 8452.126711298857\n",
            "Nível = 19  |  Treino = 2233.574203221172  |  Teste = 8833.470443567128\n",
            "Nível = 20  |  Treino = 1913.8727239705706  |  Teste = 9137.12202398264\n"
          ],
          "name": "stdout"
        }
      ]
    },
    {
      "cell_type": "markdown",
      "metadata": {
        "id": "LE7Gl2hfU_kl"
      },
      "source": [
        "# Desafios\n",
        "\n",
        "Desafio 01: Pesquisar sobre intervalo de confiança (Quem quiser discutir no Discord, estaremos lá)\n",
        "\n",
        "Desafio 02: Testar com outros parâmetros da árvore de decisão\n",
        "\n",
        "Desafio 03: Procurar outras formas de realizar os ajustes de parâmetros com o Sklearn\n",
        "\n",
        "Desafio 04: Pesquisar o que é o problema de underfit.\n",
        "\n",
        "Desafio 05: Plotar um gráfico com test_score e train_test."
      ]
    },
    {
      "cell_type": "markdown",
      "metadata": {
        "id": "jThtumYXVM7R"
      },
      "source": [
        "## Desafio 02: Testar com outros parâmetros da árvore de decisão"
      ]
    },
    {
      "cell_type": "code",
      "metadata": {
        "id": "js6u0xPeUoDW"
      },
      "source": [
        "def regressor_arvore_splitter(nivel):\n",
        "    SEED= 1232\n",
        "    np.random.seed(SEED)\n",
        "    partes = KFold(n_splits = 10, shuffle=True)\n",
        "    modelo_arvore = DecisionTreeRegressor(splitter='random', max_depth=nivel)\n",
        "    resultados = cross_validate(modelo_arvore, x, y, cv= partes, scoring=\"neg_mean_squared_error\", return_train_score=True)\n",
        "    print(f\"Nível = {nivel}  |  Treino = {(resultados['train_score']*-1).mean()}  |  Teste = {(resultados['test_score']*-1).mean()}\")\n",
        "\n"
      ],
      "execution_count": 11,
      "outputs": []
    },
    {
      "cell_type": "code",
      "metadata": {
        "id": "LBcjU-cyZ2RB",
        "outputId": "8bfaa157-5f4e-4f27-b753-2a783c373637",
        "colab": {
          "base_uri": "https://localhost:8080/",
          "height": 381
        }
      },
      "source": [
        "for i in range(1,21):\n",
        "    regressor_arvore_splitter(i)"
      ],
      "execution_count": 12,
      "outputs": [
        {
          "output_type": "stream",
          "text": [
            "Nível = 1  |  Treino = 10034.338306546062  |  Teste = 10075.107697725836\n",
            "Nível = 2  |  Treino = 8409.259207233375  |  Teste = 8429.934826473534\n",
            "Nível = 3  |  Treino = 7672.959180764663  |  Teste = 7689.899047962572\n",
            "Nível = 4  |  Treino = 7009.5930795237455  |  Teste = 7007.010476035968\n",
            "Nível = 5  |  Treino = 6486.849353647543  |  Teste = 6496.426421458465\n",
            "Nível = 6  |  Treino = 6182.095857131235  |  Teste = 6198.744206041205\n",
            "Nível = 7  |  Treino = 6064.189811442013  |  Teste = 6120.297674544248\n",
            "Nível = 8  |  Treino = 5811.853432207414  |  Teste = 5877.478817058702\n",
            "Nível = 9  |  Treino = 5699.992403790364  |  Teste = 5813.684141369803\n",
            "Nível = 10  |  Treino = 5549.912405332774  |  Teste = 5752.853577721682\n",
            "Nível = 11  |  Treino = 5396.7815114029145  |  Teste = 5688.571784240373\n",
            "Nível = 12  |  Treino = 5212.754953398728  |  Teste = 5759.2761470476635\n",
            "Nível = 13  |  Treino = 5093.835083046634  |  Teste = 5851.902438836298\n",
            "Nível = 14  |  Treino = 4935.333086019465  |  Teste = 5933.405886914515\n",
            "Nível = 15  |  Treino = 4670.5248411915045  |  Teste = 6236.1172583636235\n",
            "Nível = 16  |  Treino = 4416.000108396316  |  Teste = 6486.500157717159\n",
            "Nível = 17  |  Treino = 4061.6077375284212  |  Teste = 6844.106548732857\n",
            "Nível = 18  |  Treino = 3631.6582372998796  |  Teste = 7324.722090194127\n",
            "Nível = 19  |  Treino = 3317.914359370996  |  Teste = 7634.881543195266\n",
            "Nível = 20  |  Treino = 2854.2060742197878  |  Teste = 8216.247921513885\n"
          ],
          "name": "stdout"
        }
      ]
    },
    {
      "cell_type": "code",
      "metadata": {
        "id": "va4YvuHGanC9"
      },
      "source": [
        "def regressor_arvore_criterion(nivel):\n",
        "    SEED= 1232\n",
        "    np.random.seed(SEED)\n",
        "    partes = KFold(n_splits = 10, shuffle=True)\n",
        "    modelo_arvore = DecisionTreeRegressor(criterion='friedman_mse', max_depth=nivel)\n",
        "    resultados = cross_validate(modelo_arvore, x, y, cv= partes, scoring=\"neg_mean_squared_error\", return_train_score=True)\n",
        "    print(f\"Nível = {nivel}  |  Treino = {(resultados['train_score']*-1).mean()}  |  Teste = {(resultados['test_score']*-1).mean()}\")\n",
        "\n"
      ],
      "execution_count": 13,
      "outputs": []
    },
    {
      "cell_type": "code",
      "metadata": {
        "id": "N2mEi4A1blYT",
        "outputId": "7d922b67-0e6d-47d5-f9a8-fbab71b7b7c0",
        "colab": {
          "base_uri": "https://localhost:8080/",
          "height": 381
        }
      },
      "source": [
        "for i in range(1,21):\n",
        "    regressor_arvore_criterion(i)"
      ],
      "execution_count": 14,
      "outputs": [
        {
          "output_type": "stream",
          "text": [
            "Nível = 1  |  Treino = 7844.952652412207  |  Teste = 7857.871770206351\n",
            "Nível = 2  |  Treino = 6527.783475408351  |  Teste = 6556.886287657656\n",
            "Nível = 3  |  Treino = 6021.275229419075  |  Teste = 6054.767567442072\n",
            "Nível = 4  |  Treino = 5760.834451245899  |  Teste = 5815.707286597402\n",
            "Nível = 5  |  Treino = 5598.158955426787  |  Teste = 5675.196789060744\n",
            "Nível = 6  |  Treino = 5469.677369145869  |  Teste = 5593.304363812442\n",
            "Nível = 7  |  Treino = 5369.458309852721  |  Teste = 5541.646599457925\n",
            "Nível = 8  |  Treino = 5276.16965707928  |  Teste = 5542.053091078966\n",
            "Nível = 9  |  Treino = 5166.713159932668  |  Teste = 5606.742812619867\n",
            "Nível = 10  |  Treino = 5022.598049115693  |  Teste = 5761.422452575385\n",
            "Nível = 11  |  Treino = 4833.560706021637  |  Teste = 5956.160225439788\n",
            "Nível = 12  |  Treino = 4598.125022484774  |  Teste = 6215.407469403728\n",
            "Nível = 13  |  Treino = 4316.3791662866815  |  Teste = 6516.13879708975\n",
            "Nível = 14  |  Treino = 4000.6209880837496  |  Teste = 6851.982155244305\n",
            "Nível = 15  |  Treino = 3655.8200206081297  |  Teste = 7219.247157916153\n",
            "Nível = 16  |  Treino = 3295.756989793806  |  Teste = 7626.154288301956\n",
            "Nível = 17  |  Treino = 2931.7188404046246  |  Teste = 8038.971058991208\n",
            "Nível = 18  |  Treino = 2575.5948029132605  |  Teste = 8441.581584015932\n",
            "Nível = 19  |  Treino = 2233.575171575058  |  Teste = 8804.921931952606\n",
            "Nível = 20  |  Treino = 1913.873515446622  |  Teste = 9113.823556616886\n"
          ],
          "name": "stdout"
        }
      ]
    },
    {
      "cell_type": "code",
      "metadata": {
        "id": "ZqQXTuBEboWj"
      },
      "source": [
        "def regressor_arvore_max_feat(nivel):\n",
        "    SEED= 1232\n",
        "    np.random.seed(SEED)\n",
        "    partes = KFold(n_splits = 10, shuffle=True)\n",
        "    modelo_arvore = DecisionTreeRegressor(max_features='log2', max_depth=nivel)\n",
        "    resultados = cross_validate(modelo_arvore, x, y, cv= partes,\n",
        "                                scoring=\"neg_mean_squared_error\", return_train_score=True)\n",
        "    print(f\"Nível = {nivel}  |  Treino = {(resultados['train_score']*-1).mean()}  |  Teste = {(resultados['test_score']*-1).mean()}\")\n"
      ],
      "execution_count": 15,
      "outputs": []
    },
    {
      "cell_type": "code",
      "metadata": {
        "id": "eXFaZOThcYWt",
        "outputId": "9d5312f0-abeb-4f1b-d693-e15d350eca5f",
        "colab": {
          "base_uri": "https://localhost:8080/",
          "height": 381
        }
      },
      "source": [
        "for i in range(1,21):\n",
        "    regressor_arvore_max_feat(i)"
      ],
      "execution_count": 16,
      "outputs": [
        {
          "output_type": "stream",
          "text": [
            "Nível = 1  |  Treino = 7977.850785538653  |  Teste = 7989.846620477476\n",
            "Nível = 2  |  Treino = 6690.842869099799  |  Teste = 6730.028392780218\n",
            "Nível = 3  |  Treino = 6123.776290803577  |  Teste = 6142.8604260881575\n",
            "Nível = 4  |  Treino = 5855.747621318955  |  Teste = 5907.469840621638\n",
            "Nível = 5  |  Treino = 5669.69198800822  |  Teste = 5728.72033778391\n",
            "Nível = 6  |  Treino = 5541.457892114851  |  Teste = 5630.915068753371\n",
            "Nível = 7  |  Treino = 5424.238373034781  |  Teste = 5572.194045116861\n",
            "Nível = 8  |  Treino = 5327.086639209165  |  Teste = 5571.996085778521\n",
            "Nível = 9  |  Treino = 5210.776036972252  |  Teste = 5614.277599987135\n",
            "Nível = 10  |  Treino = 5070.625685638525  |  Teste = 5734.360620469545\n",
            "Nível = 11  |  Treino = 4897.253617904204  |  Teste = 5855.295831727374\n",
            "Nível = 12  |  Treino = 4675.329826019932  |  Teste = 6111.984376335367\n",
            "Nível = 13  |  Treino = 4399.82098802411  |  Teste = 6383.08428748503\n",
            "Nível = 14  |  Treino = 4082.4526449877267  |  Teste = 6760.125887231933\n",
            "Nível = 15  |  Treino = 3755.0060214197038  |  Teste = 7078.98089248527\n",
            "Nível = 16  |  Treino = 3386.6638310543617  |  Teste = 7438.613093839171\n",
            "Nível = 17  |  Treino = 3020.3071450233747  |  Teste = 7905.279085031192\n",
            "Nível = 18  |  Treino = 2673.55764300108  |  Teste = 8237.880550746497\n",
            "Nível = 19  |  Treino = 2303.9866549548583  |  Teste = 8666.03764162337\n",
            "Nível = 20  |  Treino = 1964.4189358008439  |  Teste = 9070.376230772963\n"
          ],
          "name": "stdout"
        }
      ]
    },
    {
      "cell_type": "code",
      "metadata": {
        "id": "EyyAMGkXca2W"
      },
      "source": [
        "def comparar_parametros(nivel):\n",
        "    regressor_arvore(nivel)\n",
        "    regressor_arvore_splitter(nivel)\n",
        "    regressor_arvore_criterion(nivel)\n",
        "    regressor_arvore_max_feat(nivel)\n"
      ],
      "execution_count": 17,
      "outputs": []
    },
    {
      "cell_type": "code",
      "metadata": {
        "id": "YinGAa_ndNyr",
        "outputId": "849ef88e-3f71-4224-f22b-3dc659cd6389",
        "colab": {
          "base_uri": "https://localhost:8080/",
          "height": 90
        }
      },
      "source": [
        "comparar_parametros(9)"
      ],
      "execution_count": 18,
      "outputs": [
        {
          "output_type": "stream",
          "text": [
            "Nível = 9  |  Treino = 5166.713159932668  |  Teste = 5608.390265709719\n",
            "Nível = 9  |  Treino = 5699.992403790364  |  Teste = 5813.684141369803\n",
            "Nível = 9  |  Treino = 5166.713159932668  |  Teste = 5606.742812619867\n",
            "Nível = 9  |  Treino = 5210.776036972252  |  Teste = 5614.277599987135\n"
          ],
          "name": "stdout"
        }
      ]
    },
    {
      "cell_type": "markdown",
      "metadata": {
        "id": "HtiFOdnneT9D"
      },
      "source": [
        "## Desafio 03: Procurar outras formas de realizar os ajustes de parâmetros com o Sklearn\n"
      ]
    },
    {
      "cell_type": "code",
      "metadata": {
        "id": "_fEEvQXcnY6q"
      },
      "source": [
        "from sklearn.model_selection import GridSearchCV"
      ],
      "execution_count": 19,
      "outputs": []
    },
    {
      "cell_type": "code",
      "metadata": {
        "id": "6l3QlJHNeWvs"
      },
      "source": [
        "regressor_arvore_grid = DecisionTreeRegressor()\n",
        "\n",
        "# Usamos o instanciamento dos parâmetros de maneira básica, com ajuste manuais\n",
        "\n",
        "#criamos os parâmetros para tunning\n",
        "\n",
        "parametros = {'max_depth':[1,40],\n",
        "              'min_samples_leaf':[1,40],\n",
        "              'min_samples_split':[2,10],\n",
        "              'splitter':['best','random'],\n",
        "              'max_features': ['auto', 'sqrt', 'log2']}\n",
        "\n",
        "\n",
        "grid = GridSearchCV(estimator = regressor_arvore_grid, param_grid = parametros)"
      ],
      "execution_count": 20,
      "outputs": []
    },
    {
      "cell_type": "code",
      "metadata": {
        "id": "OzFkCxEcrA0w",
        "outputId": "c1e2466d-8b43-4639-e9d5-a8ba888e2413",
        "colab": {
          "base_uri": "https://localhost:8080/",
          "height": 381
        }
      },
      "source": [
        "grid.fit(x_treino,y_treino)"
      ],
      "execution_count": 21,
      "outputs": [
        {
          "output_type": "execute_result",
          "data": {
            "text/plain": [
              "GridSearchCV(cv=None, error_score=nan,\n",
              "             estimator=DecisionTreeRegressor(ccp_alpha=0.0, criterion='mse',\n",
              "                                             max_depth=None, max_features=None,\n",
              "                                             max_leaf_nodes=None,\n",
              "                                             min_impurity_decrease=0.0,\n",
              "                                             min_impurity_split=None,\n",
              "                                             min_samples_leaf=1,\n",
              "                                             min_samples_split=2,\n",
              "                                             min_weight_fraction_leaf=0.0,\n",
              "                                             presort='deprecated',\n",
              "                                             random_state=None,\n",
              "                                             splitter='best'),\n",
              "             iid='deprecated', n_jobs=None,\n",
              "             param_grid={'max_depth': [1, 40],\n",
              "                         'max_features': ['auto', 'sqrt', 'log2'],\n",
              "                         'min_samples_leaf': [1, 40],\n",
              "                         'min_samples_split': [2, 10],\n",
              "                         'splitter': ['best', 'random']},\n",
              "             pre_dispatch='2*n_jobs', refit=True, return_train_score=False,\n",
              "             scoring=None, verbose=0)"
            ]
          },
          "metadata": {
            "tags": []
          },
          "execution_count": 21
        }
      ]
    },
    {
      "cell_type": "code",
      "metadata": {
        "id": "5vbqtowNcZgw",
        "outputId": "c0b2d3f3-bd00-41f8-9c24-db77de10226d",
        "colab": {
          "base_uri": "https://localhost:8080/",
          "height": 108
        }
      },
      "source": [
        "grid.best_params_"
      ],
      "execution_count": 22,
      "outputs": [
        {
          "output_type": "execute_result",
          "data": {
            "text/plain": [
              "{'max_depth': 40,\n",
              " 'max_features': 'auto',\n",
              " 'min_samples_leaf': 40,\n",
              " 'min_samples_split': 2,\n",
              " 'splitter': 'random'}"
            ]
          },
          "metadata": {
            "tags": []
          },
          "execution_count": 22
        }
      ]
    },
    {
      "cell_type": "code",
      "metadata": {
        "id": "CTeaICGhcimc"
      },
      "source": [
        "regressor_arvore_grid_melhor = grid.best_estimator_"
      ],
      "execution_count": 23,
      "outputs": []
    },
    {
      "cell_type": "code",
      "metadata": {
        "id": "8ajf-cSKdbMT"
      },
      "source": [
        "regressor_arvore_grid_melhor_result = regressor_arvore_grid_melhor.predict(x_teste)"
      ],
      "execution_count": 24,
      "outputs": []
    },
    {
      "cell_type": "code",
      "metadata": {
        "id": "-lAb1_LCflLi",
        "outputId": "6569357a-2011-4bb4-e5f7-8e4091fb3408",
        "colab": {
          "base_uri": "https://localhost:8080/",
          "height": 35
        }
      },
      "source": [
        "mean_squared_error(y_teste, regressor_arvore_grid_melhor_result)"
      ],
      "execution_count": 27,
      "outputs": [
        {
          "output_type": "execute_result",
          "data": {
            "text/plain": [
              "5660.296313644545"
            ]
          },
          "metadata": {
            "tags": []
          },
          "execution_count": 27
        }
      ]
    },
    {
      "cell_type": "code",
      "metadata": {
        "id": "7Ku9HCNUft_Z",
        "outputId": "dcc1ce90-63c8-4f4c-d9f4-8a4961fb930b",
        "colab": {
          "base_uri": "https://localhost:8080/",
          "height": 35
        }
      },
      "source": [
        "r2_score(y_teste, regressor_arvore_grid_melhor_result)"
      ],
      "execution_count": 30,
      "outputs": [
        {
          "output_type": "execute_result",
          "data": {
            "text/plain": [
              "0.5306968718658249"
            ]
          },
          "metadata": {
            "tags": []
          },
          "execution_count": 30
        }
      ]
    },
    {
      "cell_type": "markdown",
      "metadata": {
        "id": "DSj6AoBcyx_R"
      },
      "source": [
        "## Desafio 05: Plotar um gráfico com test_score e train_test."
      ]
    },
    {
      "cell_type": "code",
      "metadata": {
        "id": "yRB9wAM8yy9x"
      },
      "source": [
        "#Vamos alterar o 1 código e plotar o gráfico proposto para cada um.\n",
        "\n",
        "#primeiro temos que criar uma lista que receberá os dados de teste e de treino.\n",
        "\n",
        "result_teste=[]\n",
        "\n",
        "result_treino=[]\n",
        "\n",
        "\n",
        "def regressor_arvore(nivel):\n",
        "    SEED= 1232\n",
        "    np.random.seed(SEED)\n",
        "    partes = KFold(n_splits = 10, shuffle=True)\n",
        "    modelo_arvore = DecisionTreeRegressor(max_depth=nivel)\n",
        "    resultados = cross_validate(modelo_arvore, x, y, cv= partes, scoring=\"neg_mean_squared_error\", return_train_score=True)\n",
        "    #print(f\"Nível = {nivel}  |  Treino = {(resultados['train_score']*-1).mean()}  |  Teste = {(resultados['test_score']*-1).mean()}\")\n",
        "    \n",
        "    #irei comentar para não printar a cada iteração\n",
        "    #fazendo o preenchimento da lista\n",
        "    result_teste.append((resultados['test_score']*-1).mean())\n",
        "    result_treino.append((resultados['train_score']*-1).mean())\n",
        "\n",
        "\n",
        "\n"
      ],
      "execution_count": 76,
      "outputs": []
    },
    {
      "cell_type": "code",
      "metadata": {
        "id": "kvkKU2tQ3Lg6",
        "outputId": "771e6700-e0d2-4e81-d601-47660b22ecb7",
        "colab": {
          "base_uri": "https://localhost:8080/",
          "height": 381
        }
      },
      "source": [
        "for i in range(1,21):\n",
        "  regressor_arvore(i)"
      ],
      "execution_count": 77,
      "outputs": [
        {
          "output_type": "stream",
          "text": [
            "Nível = 1  |  Treino = 7844.952652412207  |  Teste = 7857.871770206351\n",
            "Nível = 2  |  Treino = 6527.783475408351  |  Teste = 6556.886287657656\n",
            "Nível = 3  |  Treino = 6021.275229419075  |  Teste = 6054.767567442072\n",
            "Nível = 4  |  Treino = 5760.834451245899  |  Teste = 5815.707286597402\n",
            "Nível = 5  |  Treino = 5598.158955426787  |  Teste = 5675.196789060744\n",
            "Nível = 6  |  Treino = 5469.677369145869  |  Teste = 5593.304363812442\n",
            "Nível = 7  |  Treino = 5369.458309852721  |  Teste = 5541.646599457925\n",
            "Nível = 8  |  Treino = 5276.16965707928  |  Teste = 5542.053091078966\n",
            "Nível = 9  |  Treino = 5166.713159932668  |  Teste = 5608.390265709719\n",
            "Nível = 10  |  Treino = 5022.598049115693  |  Teste = 5761.4934268457555\n",
            "Nível = 11  |  Treino = 4833.560706021637  |  Teste = 5955.331403579403\n",
            "Nível = 12  |  Treino = 4598.125022484774  |  Teste = 6217.553668629227\n",
            "Nível = 13  |  Treino = 4316.3791662866815  |  Teste = 6521.403312280134\n",
            "Nível = 14  |  Treino = 4000.6209880837496  |  Teste = 6853.984106997142\n",
            "Nível = 15  |  Treino = 3655.8197526274853  |  Teste = 7224.863053512405\n",
            "Nível = 16  |  Treino = 3295.832684540846  |  Teste = 7636.168819779455\n",
            "Nível = 17  |  Treino = 2931.7212612043877  |  Teste = 8071.851486256819\n",
            "Nível = 18  |  Treino = 2575.59534021339  |  Teste = 8452.126711298857\n",
            "Nível = 19  |  Treino = 2233.574203221172  |  Teste = 8833.470443567128\n",
            "Nível = 20  |  Treino = 1913.8727239705706  |  Teste = 9137.12202398264\n"
          ],
          "name": "stdout"
        }
      ]
    },
    {
      "cell_type": "code",
      "metadata": {
        "id": "bSZwGygn4Ao3"
      },
      "source": [
        "pd_result_arvore = pd.DataFrame()\n",
        "pd_result_arvore['Index'] = range(1,21)\n",
        "pd_result_arvore['Treino'] = result_treino\n",
        "pd_result_arvore['Teste'] = result_teste\n"
      ],
      "execution_count": 82,
      "outputs": []
    },
    {
      "cell_type": "code",
      "metadata": {
        "id": "gDGVSlpe3qdE",
        "outputId": "52e9ab3e-18db-4b34-ee4e-28cd3f894650",
        "colab": {
          "base_uri": "https://localhost:8080/",
          "height": 911
        }
      },
      "source": [
        "plt.figure(figsize=(20,15))\n",
        "plt.plot(pd_result_arvore['Index'], pd_result_arvore['Treino'] , pd_result_arvore['Index'], pd_result_arvore['Teste'])\n",
        "plt.title('Rsultado do Treino x Teste a cada nível de Profundidade da Árvore de Decisão')\n",
        "plt.xlabel('Profundidade da Árvore de Decisão')\n",
        "plt.ylabel('MSE - Mean Squared Error')\n",
        "plt.legend(['Resultado do treino','Resultado do teste'])"
      ],
      "execution_count": 84,
      "outputs": [
        {
          "output_type": "execute_result",
          "data": {
            "text/plain": [
              "<matplotlib.legend.Legend at 0x7f85d4f49fd0>"
            ]
          },
          "metadata": {
            "tags": []
          },
          "execution_count": 84
        },
        {
          "output_type": "display_data",
          "data": {
            "image/png": "[encoded data removed]",
            "text/plain": [
              "<Figure size 1440x1080 with 1 Axes>"
            ]
          },
          "metadata": {
            "tags": [],
            "needs_background": "light"
          }
        }
      ]
    },
    {
      "cell_type": "markdown",
      "metadata": {
        "id": "j-V9THWF5LWA"
      },
      "source": [
        "Neste caso fica bem claro como o overfit se comporta. Conforme nosso erro vai diminuindo com o treino, o erro no teste começa a subir muito mais rapidamente. Esse é um dos grandes problemas a ter-se atenção quando validando as hipóteses apenas com medidas de erros."
      ]
    },
    {
      "cell_type": "code",
      "metadata": {
        "id": "LGXJtQ8W5GdR"
      },
      "source": [
        ""
      ],
      "execution_count": null,
      "outputs": []
    }
  ]
}